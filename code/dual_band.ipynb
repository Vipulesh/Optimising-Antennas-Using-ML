{
 "cells": [
  {
   "cell_type": "code",
   "execution_count": 1,
   "metadata": {},
   "outputs": [],
   "source": [
    "import pandas as pd\n",
    "import numpy as np"
   ]
  },
  {
   "cell_type": "code",
   "execution_count": 2,
   "metadata": {},
   "outputs": [
    {
     "data": {
      "text/html": [
       "<div>\n",
       "<style scoped>\n",
       "    .dataframe tbody tr th:only-of-type {\n",
       "        vertical-align: middle;\n",
       "    }\n",
       "\n",
       "    .dataframe tbody tr th {\n",
       "        vertical-align: top;\n",
       "    }\n",
       "\n",
       "    .dataframe thead th {\n",
       "        text-align: right;\n",
       "    }\n",
       "</style>\n",
       "<table border=\"1\" class=\"dataframe\">\n",
       "  <thead>\n",
       "    <tr style=\"text-align: right;\">\n",
       "      <th></th>\n",
       "      <th>Frequency</th>\n",
       "      <th>S12</th>\n",
       "      <th>el1</th>\n",
       "      <th>h1</th>\n",
       "      <th>l1</th>\n",
       "      <th>m2</th>\n",
       "      <th>px</th>\n",
       "      <th>py</th>\n",
       "    </tr>\n",
       "  </thead>\n",
       "  <tbody>\n",
       "    <tr>\n",
       "      <th>0</th>\n",
       "      <td>1.000</td>\n",
       "      <td>-42.088073</td>\n",
       "      <td>6</td>\n",
       "      <td>0.8</td>\n",
       "      <td>6</td>\n",
       "      <td>2</td>\n",
       "      <td>30</td>\n",
       "      <td>30</td>\n",
       "    </tr>\n",
       "    <tr>\n",
       "      <th>1</th>\n",
       "      <td>1.009</td>\n",
       "      <td>-42.496948</td>\n",
       "      <td>6</td>\n",
       "      <td>0.8</td>\n",
       "      <td>6</td>\n",
       "      <td>2</td>\n",
       "      <td>30</td>\n",
       "      <td>30</td>\n",
       "    </tr>\n",
       "    <tr>\n",
       "      <th>2</th>\n",
       "      <td>1.018</td>\n",
       "      <td>-42.873036</td>\n",
       "      <td>6</td>\n",
       "      <td>0.8</td>\n",
       "      <td>6</td>\n",
       "      <td>2</td>\n",
       "      <td>30</td>\n",
       "      <td>30</td>\n",
       "    </tr>\n",
       "    <tr>\n",
       "      <th>3</th>\n",
       "      <td>1.027</td>\n",
       "      <td>-43.132955</td>\n",
       "      <td>6</td>\n",
       "      <td>0.8</td>\n",
       "      <td>6</td>\n",
       "      <td>2</td>\n",
       "      <td>30</td>\n",
       "      <td>30</td>\n",
       "    </tr>\n",
       "    <tr>\n",
       "      <th>4</th>\n",
       "      <td>1.036</td>\n",
       "      <td>-43.179753</td>\n",
       "      <td>6</td>\n",
       "      <td>0.8</td>\n",
       "      <td>6</td>\n",
       "      <td>2</td>\n",
       "      <td>30</td>\n",
       "      <td>30</td>\n",
       "    </tr>\n",
       "  </tbody>\n",
       "</table>\n",
       "</div>"
      ],
      "text/plain": [
       "   Frequency        S12  el1   h1  l1  m2  px  py\n",
       "0      1.000 -42.088073    6  0.8   6   2  30  30\n",
       "1      1.009 -42.496948    6  0.8   6   2  30  30\n",
       "2      1.018 -42.873036    6  0.8   6   2  30  30\n",
       "3      1.027 -43.132955    6  0.8   6   2  30  30\n",
       "4      1.036 -43.179753    6  0.8   6   2  30  30"
      ]
     },
     "execution_count": 2,
     "metadata": {},
     "output_type": "execute_result"
    }
   ],
   "source": [
    "df1=pd.read_csv('Data.csv')\n",
    "df1.head()"
   ]
  },
  {
   "cell_type": "code",
   "execution_count": 3,
   "metadata": {},
   "outputs": [
    {
     "name": "stdout",
     "output_type": "stream",
     "text": [
      "<class 'pandas.core.frame.DataFrame'>\n",
      "RangeIndex: 314314 entries, 0 to 314313\n",
      "Data columns (total 8 columns):\n",
      " #   Column     Non-Null Count   Dtype  \n",
      "---  ------     --------------   -----  \n",
      " 0   Frequency  314314 non-null  float64\n",
      " 1   S12        314314 non-null  float64\n",
      " 2   el1        314314 non-null  int64  \n",
      " 3   h1         314314 non-null  float64\n",
      " 4   l1         314314 non-null  int64  \n",
      " 5   m2         314314 non-null  int64  \n",
      " 6   px         314314 non-null  int64  \n",
      " 7   py         314314 non-null  int64  \n",
      "dtypes: float64(3), int64(5)\n",
      "memory usage: 19.2 MB\n"
     ]
    }
   ],
   "source": [
    "df1.info()"
   ]
  },
  {
   "cell_type": "code",
   "execution_count": 4,
   "metadata": {},
   "outputs": [
    {
     "data": {
      "text/html": [
       "<div>\n",
       "<style scoped>\n",
       "    .dataframe tbody tr th:only-of-type {\n",
       "        vertical-align: middle;\n",
       "    }\n",
       "\n",
       "    .dataframe tbody tr th {\n",
       "        vertical-align: top;\n",
       "    }\n",
       "\n",
       "    .dataframe thead th {\n",
       "        text-align: right;\n",
       "    }\n",
       "</style>\n",
       "<table border=\"1\" class=\"dataframe\">\n",
       "  <thead>\n",
       "    <tr style=\"text-align: right;\">\n",
       "      <th></th>\n",
       "      <th>Frequency</th>\n",
       "      <th>S12</th>\n",
       "      <th>el1</th>\n",
       "      <th>h1</th>\n",
       "      <th>l1</th>\n",
       "      <th>m2</th>\n",
       "      <th>px</th>\n",
       "      <th>py</th>\n",
       "    </tr>\n",
       "  </thead>\n",
       "  <tbody>\n",
       "    <tr>\n",
       "      <th>0</th>\n",
       "      <td>1.000</td>\n",
       "      <td>-42.088073</td>\n",
       "      <td>6</td>\n",
       "      <td>0.8</td>\n",
       "      <td>6</td>\n",
       "      <td>2</td>\n",
       "      <td>30</td>\n",
       "      <td>30</td>\n",
       "    </tr>\n",
       "    <tr>\n",
       "      <th>1</th>\n",
       "      <td>1.009</td>\n",
       "      <td>-42.496948</td>\n",
       "      <td>6</td>\n",
       "      <td>0.8</td>\n",
       "      <td>6</td>\n",
       "      <td>2</td>\n",
       "      <td>30</td>\n",
       "      <td>30</td>\n",
       "    </tr>\n",
       "    <tr>\n",
       "      <th>2</th>\n",
       "      <td>1.018</td>\n",
       "      <td>-42.873036</td>\n",
       "      <td>6</td>\n",
       "      <td>0.8</td>\n",
       "      <td>6</td>\n",
       "      <td>2</td>\n",
       "      <td>30</td>\n",
       "      <td>30</td>\n",
       "    </tr>\n",
       "    <tr>\n",
       "      <th>3</th>\n",
       "      <td>1.027</td>\n",
       "      <td>-43.132955</td>\n",
       "      <td>6</td>\n",
       "      <td>0.8</td>\n",
       "      <td>6</td>\n",
       "      <td>2</td>\n",
       "      <td>30</td>\n",
       "      <td>30</td>\n",
       "    </tr>\n",
       "    <tr>\n",
       "      <th>4</th>\n",
       "      <td>1.036</td>\n",
       "      <td>-43.179753</td>\n",
       "      <td>6</td>\n",
       "      <td>0.8</td>\n",
       "      <td>6</td>\n",
       "      <td>2</td>\n",
       "      <td>30</td>\n",
       "      <td>30</td>\n",
       "    </tr>\n",
       "    <tr>\n",
       "      <th>...</th>\n",
       "      <td>...</td>\n",
       "      <td>...</td>\n",
       "      <td>...</td>\n",
       "      <td>...</td>\n",
       "      <td>...</td>\n",
       "      <td>...</td>\n",
       "      <td>...</td>\n",
       "      <td>...</td>\n",
       "    </tr>\n",
       "    <tr>\n",
       "      <th>129</th>\n",
       "      <td>2.161</td>\n",
       "      <td>-47.347711</td>\n",
       "      <td>6</td>\n",
       "      <td>0.8</td>\n",
       "      <td>6</td>\n",
       "      <td>2</td>\n",
       "      <td>30</td>\n",
       "      <td>30</td>\n",
       "    </tr>\n",
       "    <tr>\n",
       "      <th>130</th>\n",
       "      <td>2.170</td>\n",
       "      <td>-47.965790</td>\n",
       "      <td>6</td>\n",
       "      <td>0.8</td>\n",
       "      <td>6</td>\n",
       "      <td>2</td>\n",
       "      <td>30</td>\n",
       "      <td>30</td>\n",
       "    </tr>\n",
       "    <tr>\n",
       "      <th>131</th>\n",
       "      <td>2.179</td>\n",
       "      <td>-48.681324</td>\n",
       "      <td>6</td>\n",
       "      <td>0.8</td>\n",
       "      <td>6</td>\n",
       "      <td>2</td>\n",
       "      <td>30</td>\n",
       "      <td>30</td>\n",
       "    </tr>\n",
       "    <tr>\n",
       "      <th>132</th>\n",
       "      <td>2.188</td>\n",
       "      <td>-49.490267</td>\n",
       "      <td>6</td>\n",
       "      <td>0.8</td>\n",
       "      <td>6</td>\n",
       "      <td>2</td>\n",
       "      <td>30</td>\n",
       "      <td>30</td>\n",
       "    </tr>\n",
       "    <tr>\n",
       "      <th>133</th>\n",
       "      <td>2.197</td>\n",
       "      <td>-50.369571</td>\n",
       "      <td>6</td>\n",
       "      <td>0.8</td>\n",
       "      <td>6</td>\n",
       "      <td>2</td>\n",
       "      <td>30</td>\n",
       "      <td>30</td>\n",
       "    </tr>\n",
       "  </tbody>\n",
       "</table>\n",
       "<p>134 rows × 8 columns</p>\n",
       "</div>"
      ],
      "text/plain": [
       "     Frequency        S12  el1   h1  l1  m2  px  py\n",
       "0        1.000 -42.088073    6  0.8   6   2  30  30\n",
       "1        1.009 -42.496948    6  0.8   6   2  30  30\n",
       "2        1.018 -42.873036    6  0.8   6   2  30  30\n",
       "3        1.027 -43.132955    6  0.8   6   2  30  30\n",
       "4        1.036 -43.179753    6  0.8   6   2  30  30\n",
       "..         ...        ...  ...  ...  ..  ..  ..  ..\n",
       "129      2.161 -47.347711    6  0.8   6   2  30  30\n",
       "130      2.170 -47.965790    6  0.8   6   2  30  30\n",
       "131      2.179 -48.681324    6  0.8   6   2  30  30\n",
       "132      2.188 -49.490267    6  0.8   6   2  30  30\n",
       "133      2.197 -50.369571    6  0.8   6   2  30  30\n",
       "\n",
       "[134 rows x 8 columns]"
      ]
     },
     "execution_count": 4,
     "metadata": {},
     "output_type": "execute_result"
    }
   ],
   "source": [
    "df1.head(134)"
   ]
  },
  {
   "cell_type": "code",
   "execution_count": 5,
   "metadata": {},
   "outputs": [
    {
     "data": {
      "text/plain": [
       "array([ 6,  8,  4, 10], dtype=int64)"
      ]
     },
     "execution_count": 5,
     "metadata": {},
     "output_type": "execute_result"
    }
   ],
   "source": [
    "df1.el1.unique()"
   ]
  },
  {
   "cell_type": "code",
   "execution_count": 6,
   "metadata": {},
   "outputs": [],
   "source": [
    "filtered_df = df1[((df1['Frequency'] >= 2.4) & (df1['Frequency'] <= 3))|((df1['Frequency'] >= 5.15) & (df1['Frequency'] <= 6))]"
   ]
  },
  {
   "cell_type": "code",
   "execution_count": 7,
   "metadata": {},
   "outputs": [
    {
     "data": {
      "text/html": [
       "<div>\n",
       "<style scoped>\n",
       "    .dataframe tbody tr th:only-of-type {\n",
       "        vertical-align: middle;\n",
       "    }\n",
       "\n",
       "    .dataframe tbody tr th {\n",
       "        vertical-align: top;\n",
       "    }\n",
       "\n",
       "    .dataframe thead th {\n",
       "        text-align: right;\n",
       "    }\n",
       "</style>\n",
       "<table border=\"1\" class=\"dataframe\">\n",
       "  <thead>\n",
       "    <tr style=\"text-align: right;\">\n",
       "      <th></th>\n",
       "      <th>Frequency</th>\n",
       "      <th>S12</th>\n",
       "      <th>el1</th>\n",
       "      <th>h1</th>\n",
       "      <th>l1</th>\n",
       "      <th>m2</th>\n",
       "      <th>px</th>\n",
       "      <th>py</th>\n",
       "    </tr>\n",
       "  </thead>\n",
       "  <tbody>\n",
       "    <tr>\n",
       "      <th>156</th>\n",
       "      <td>2.404</td>\n",
       "      <td>-50.726784</td>\n",
       "      <td>6</td>\n",
       "      <td>0.8</td>\n",
       "      <td>6</td>\n",
       "      <td>2</td>\n",
       "      <td>30</td>\n",
       "      <td>30</td>\n",
       "    </tr>\n",
       "    <tr>\n",
       "      <th>157</th>\n",
       "      <td>2.413</td>\n",
       "      <td>-51.272862</td>\n",
       "      <td>6</td>\n",
       "      <td>0.8</td>\n",
       "      <td>6</td>\n",
       "      <td>2</td>\n",
       "      <td>30</td>\n",
       "      <td>30</td>\n",
       "    </tr>\n",
       "    <tr>\n",
       "      <th>158</th>\n",
       "      <td>2.422</td>\n",
       "      <td>-51.646794</td>\n",
       "      <td>6</td>\n",
       "      <td>0.8</td>\n",
       "      <td>6</td>\n",
       "      <td>2</td>\n",
       "      <td>30</td>\n",
       "      <td>30</td>\n",
       "    </tr>\n",
       "    <tr>\n",
       "      <th>159</th>\n",
       "      <td>2.431</td>\n",
       "      <td>-51.753824</td>\n",
       "      <td>6</td>\n",
       "      <td>0.8</td>\n",
       "      <td>6</td>\n",
       "      <td>2</td>\n",
       "      <td>30</td>\n",
       "      <td>30</td>\n",
       "    </tr>\n",
       "    <tr>\n",
       "      <th>160</th>\n",
       "      <td>2.440</td>\n",
       "      <td>-51.548538</td>\n",
       "      <td>6</td>\n",
       "      <td>0.8</td>\n",
       "      <td>6</td>\n",
       "      <td>2</td>\n",
       "      <td>30</td>\n",
       "      <td>30</td>\n",
       "    </tr>\n",
       "    <tr>\n",
       "      <th>...</th>\n",
       "      <td>...</td>\n",
       "      <td>...</td>\n",
       "      <td>...</td>\n",
       "      <td>...</td>\n",
       "      <td>...</td>\n",
       "      <td>...</td>\n",
       "      <td>...</td>\n",
       "      <td>...</td>\n",
       "    </tr>\n",
       "    <tr>\n",
       "      <th>552</th>\n",
       "      <td>5.968</td>\n",
       "      <td>-33.933316</td>\n",
       "      <td>6</td>\n",
       "      <td>0.8</td>\n",
       "      <td>6</td>\n",
       "      <td>2</td>\n",
       "      <td>30</td>\n",
       "      <td>30</td>\n",
       "    </tr>\n",
       "    <tr>\n",
       "      <th>553</th>\n",
       "      <td>5.977</td>\n",
       "      <td>-33.763515</td>\n",
       "      <td>6</td>\n",
       "      <td>0.8</td>\n",
       "      <td>6</td>\n",
       "      <td>2</td>\n",
       "      <td>30</td>\n",
       "      <td>30</td>\n",
       "    </tr>\n",
       "    <tr>\n",
       "      <th>554</th>\n",
       "      <td>5.986</td>\n",
       "      <td>-33.615830</td>\n",
       "      <td>6</td>\n",
       "      <td>0.8</td>\n",
       "      <td>6</td>\n",
       "      <td>2</td>\n",
       "      <td>30</td>\n",
       "      <td>30</td>\n",
       "    </tr>\n",
       "    <tr>\n",
       "      <th>555</th>\n",
       "      <td>5.995</td>\n",
       "      <td>-33.487373</td>\n",
       "      <td>6</td>\n",
       "      <td>0.8</td>\n",
       "      <td>6</td>\n",
       "      <td>2</td>\n",
       "      <td>30</td>\n",
       "      <td>30</td>\n",
       "    </tr>\n",
       "    <tr>\n",
       "      <th>1157</th>\n",
       "      <td>2.404</td>\n",
       "      <td>-38.538611</td>\n",
       "      <td>8</td>\n",
       "      <td>0.8</td>\n",
       "      <td>8</td>\n",
       "      <td>4</td>\n",
       "      <td>30</td>\n",
       "      <td>30</td>\n",
       "    </tr>\n",
       "  </tbody>\n",
       "</table>\n",
       "<p>162 rows × 8 columns</p>\n",
       "</div>"
      ],
      "text/plain": [
       "      Frequency        S12  el1   h1  l1  m2  px  py\n",
       "156       2.404 -50.726784    6  0.8   6   2  30  30\n",
       "157       2.413 -51.272862    6  0.8   6   2  30  30\n",
       "158       2.422 -51.646794    6  0.8   6   2  30  30\n",
       "159       2.431 -51.753824    6  0.8   6   2  30  30\n",
       "160       2.440 -51.548538    6  0.8   6   2  30  30\n",
       "...         ...        ...  ...  ...  ..  ..  ..  ..\n",
       "552       5.968 -33.933316    6  0.8   6   2  30  30\n",
       "553       5.977 -33.763515    6  0.8   6   2  30  30\n",
       "554       5.986 -33.615830    6  0.8   6   2  30  30\n",
       "555       5.995 -33.487373    6  0.8   6   2  30  30\n",
       "1157      2.404 -38.538611    8  0.8   8   4  30  30\n",
       "\n",
       "[162 rows x 8 columns]"
      ]
     },
     "execution_count": 7,
     "metadata": {},
     "output_type": "execute_result"
    }
   ],
   "source": [
    "filtered_df.head(162)"
   ]
  },
  {
   "cell_type": "code",
   "execution_count": 8,
   "metadata": {},
   "outputs": [],
   "source": [
    "def apt_dataframe(df):\n",
    "    fom=df['S12'].abs().sum()\n",
    "    return fom"
   ]
  },
  {
   "cell_type": "code",
   "execution_count": 9,
   "metadata": {},
   "outputs": [],
   "source": [
    "fom=[]\n",
    "el1=[]\n",
    "h1=[]\n",
    "l1=[]\n",
    "m2=[]\n",
    "px=[]\n",
    "py=[]\n",
    "# filtered_df = df1[((df1['Frequency'] >= 2.4) & (df1['Frequency'] <= 3))|((df1['Frequency'] >= 5.15) & (df1['Frequency'] <= 6))]\n",
    "for i in filtered_df.index:\n",
    "    temp=apt_dataframe(df1[i:i+162])\n",
    "    fom.append(temp)\n",
    "    el1.append(filtered_df['el1'][i])\n",
    "    h1.append(filtered_df['h1'][i])\n",
    "    l1.append(filtered_df['l1'][i])\n",
    "    m2.append(filtered_df['m2'][i])\n",
    "    px.append(filtered_df['px'][i])\n",
    "    py.append(filtered_df['py'][i])\n",
    "    i=i+162"
   ]
  },
  {
   "cell_type": "code",
   "execution_count": null,
   "metadata": {},
   "outputs": [],
   "source": []
  },
  {
   "cell_type": "code",
   "execution_count": 10,
   "metadata": {},
   "outputs": [],
   "source": [
    "df2=pd.DataFrame({'FOM':fom,'el1':el1,'h1':h1,'l1':l1,'m2':m2,'px':px,'py':py})"
   ]
  },
  {
   "cell_type": "code",
   "execution_count": 11,
   "metadata": {},
   "outputs": [
    {
     "data": {
      "text/html": [
       "<div>\n",
       "<style scoped>\n",
       "    .dataframe tbody tr th:only-of-type {\n",
       "        vertical-align: middle;\n",
       "    }\n",
       "\n",
       "    .dataframe tbody tr th {\n",
       "        vertical-align: top;\n",
       "    }\n",
       "\n",
       "    .dataframe thead th {\n",
       "        text-align: right;\n",
       "    }\n",
       "</style>\n",
       "<table border=\"1\" class=\"dataframe\">\n",
       "  <thead>\n",
       "    <tr style=\"text-align: right;\">\n",
       "      <th></th>\n",
       "      <th>FOM</th>\n",
       "      <th>el1</th>\n",
       "      <th>h1</th>\n",
       "      <th>l1</th>\n",
       "      <th>m2</th>\n",
       "      <th>px</th>\n",
       "      <th>py</th>\n",
       "    </tr>\n",
       "  </thead>\n",
       "  <tbody>\n",
       "    <tr>\n",
       "      <th>50544</th>\n",
       "      <td>7012.857676</td>\n",
       "      <td>4</td>\n",
       "      <td>1.6</td>\n",
       "      <td>4</td>\n",
       "      <td>2</td>\n",
       "      <td>28</td>\n",
       "      <td>27</td>\n",
       "    </tr>\n",
       "    <tr>\n",
       "      <th>50545</th>\n",
       "      <td>7006.893172</td>\n",
       "      <td>4</td>\n",
       "      <td>1.6</td>\n",
       "      <td>4</td>\n",
       "      <td>2</td>\n",
       "      <td>28</td>\n",
       "      <td>27</td>\n",
       "    </tr>\n",
       "    <tr>\n",
       "      <th>50546</th>\n",
       "      <td>7001.294714</td>\n",
       "      <td>4</td>\n",
       "      <td>1.6</td>\n",
       "      <td>4</td>\n",
       "      <td>2</td>\n",
       "      <td>28</td>\n",
       "      <td>27</td>\n",
       "    </tr>\n",
       "    <tr>\n",
       "      <th>50547</th>\n",
       "      <td>6996.058558</td>\n",
       "      <td>4</td>\n",
       "      <td>1.6</td>\n",
       "      <td>4</td>\n",
       "      <td>2</td>\n",
       "      <td>28</td>\n",
       "      <td>27</td>\n",
       "    </tr>\n",
       "    <tr>\n",
       "      <th>50548</th>\n",
       "      <td>6991.172829</td>\n",
       "      <td>4</td>\n",
       "      <td>1.6</td>\n",
       "      <td>4</td>\n",
       "      <td>2</td>\n",
       "      <td>28</td>\n",
       "      <td>27</td>\n",
       "    </tr>\n",
       "    <tr>\n",
       "      <th>50549</th>\n",
       "      <td>6986.619291</td>\n",
       "      <td>4</td>\n",
       "      <td>1.6</td>\n",
       "      <td>4</td>\n",
       "      <td>2</td>\n",
       "      <td>28</td>\n",
       "      <td>27</td>\n",
       "    </tr>\n",
       "    <tr>\n",
       "      <th>50550</th>\n",
       "      <td>6982.374665</td>\n",
       "      <td>4</td>\n",
       "      <td>1.6</td>\n",
       "      <td>4</td>\n",
       "      <td>2</td>\n",
       "      <td>28</td>\n",
       "      <td>27</td>\n",
       "    </tr>\n",
       "    <tr>\n",
       "      <th>50551</th>\n",
       "      <td>6978.411586</td>\n",
       "      <td>4</td>\n",
       "      <td>1.6</td>\n",
       "      <td>4</td>\n",
       "      <td>2</td>\n",
       "      <td>28</td>\n",
       "      <td>27</td>\n",
       "    </tr>\n",
       "    <tr>\n",
       "      <th>50552</th>\n",
       "      <td>6974.699276</td>\n",
       "      <td>4</td>\n",
       "      <td>1.6</td>\n",
       "      <td>4</td>\n",
       "      <td>2</td>\n",
       "      <td>28</td>\n",
       "      <td>27</td>\n",
       "    </tr>\n",
       "    <tr>\n",
       "      <th>50553</th>\n",
       "      <td>6971.204008</td>\n",
       "      <td>4</td>\n",
       "      <td>1.6</td>\n",
       "      <td>4</td>\n",
       "      <td>2</td>\n",
       "      <td>28</td>\n",
       "      <td>27</td>\n",
       "    </tr>\n",
       "  </tbody>\n",
       "</table>\n",
       "</div>"
      ],
      "text/plain": [
       "               FOM  el1   h1  l1  m2  px  py\n",
       "50544  7012.857676    4  1.6   4   2  28  27\n",
       "50545  7006.893172    4  1.6   4   2  28  27\n",
       "50546  7001.294714    4  1.6   4   2  28  27\n",
       "50547  6996.058558    4  1.6   4   2  28  27\n",
       "50548  6991.172829    4  1.6   4   2  28  27\n",
       "50549  6986.619291    4  1.6   4   2  28  27\n",
       "50550  6982.374665    4  1.6   4   2  28  27\n",
       "50551  6978.411586    4  1.6   4   2  28  27\n",
       "50552  6974.699276    4  1.6   4   2  28  27\n",
       "50553  6971.204008    4  1.6   4   2  28  27"
      ]
     },
     "execution_count": 11,
     "metadata": {},
     "output_type": "execute_result"
    }
   ],
   "source": [
    "df2.tail(10)"
   ]
  },
  {
   "cell_type": "code",
   "execution_count": 12,
   "metadata": {},
   "outputs": [
    {
     "data": {
      "text/html": [
       "<div>\n",
       "<style scoped>\n",
       "    .dataframe tbody tr th:only-of-type {\n",
       "        vertical-align: middle;\n",
       "    }\n",
       "\n",
       "    .dataframe tbody tr th {\n",
       "        vertical-align: top;\n",
       "    }\n",
       "\n",
       "    .dataframe thead th {\n",
       "        text-align: right;\n",
       "    }\n",
       "</style>\n",
       "<table border=\"1\" class=\"dataframe\">\n",
       "  <thead>\n",
       "    <tr style=\"text-align: right;\">\n",
       "      <th></th>\n",
       "      <th>FOM</th>\n",
       "      <th>el1</th>\n",
       "      <th>h1</th>\n",
       "      <th>l1</th>\n",
       "      <th>m2</th>\n",
       "      <th>px</th>\n",
       "      <th>py</th>\n",
       "    </tr>\n",
       "  </thead>\n",
       "  <tbody>\n",
       "    <tr>\n",
       "      <th>count</th>\n",
       "      <td>50554.000000</td>\n",
       "      <td>50554.000000</td>\n",
       "      <td>50554.000000</td>\n",
       "      <td>50554.000000</td>\n",
       "      <td>50554.000000</td>\n",
       "      <td>50554.000000</td>\n",
       "      <td>50554.000000</td>\n",
       "    </tr>\n",
       "    <tr>\n",
       "      <th>mean</th>\n",
       "      <td>5595.144182</td>\n",
       "      <td>6.808917</td>\n",
       "      <td>1.040127</td>\n",
       "      <td>6.808917</td>\n",
       "      <td>2.025478</td>\n",
       "      <td>27.458599</td>\n",
       "      <td>27.525478</td>\n",
       "    </tr>\n",
       "    <tr>\n",
       "      <th>std</th>\n",
       "      <td>383.792650</td>\n",
       "      <td>2.273194</td>\n",
       "      <td>0.247373</td>\n",
       "      <td>2.273194</td>\n",
       "      <td>0.224293</td>\n",
       "      <td>1.715404</td>\n",
       "      <td>1.723124</td>\n",
       "    </tr>\n",
       "    <tr>\n",
       "      <th>min</th>\n",
       "      <td>4860.961767</td>\n",
       "      <td>4.000000</td>\n",
       "      <td>0.600000</td>\n",
       "      <td>4.000000</td>\n",
       "      <td>2.000000</td>\n",
       "      <td>25.000000</td>\n",
       "      <td>25.000000</td>\n",
       "    </tr>\n",
       "    <tr>\n",
       "      <th>25%</th>\n",
       "      <td>5353.314409</td>\n",
       "      <td>4.000000</td>\n",
       "      <td>0.800000</td>\n",
       "      <td>4.000000</td>\n",
       "      <td>2.000000</td>\n",
       "      <td>26.000000</td>\n",
       "      <td>26.000000</td>\n",
       "    </tr>\n",
       "    <tr>\n",
       "      <th>50%</th>\n",
       "      <td>5493.397313</td>\n",
       "      <td>6.000000</td>\n",
       "      <td>1.200000</td>\n",
       "      <td>6.000000</td>\n",
       "      <td>2.000000</td>\n",
       "      <td>27.000000</td>\n",
       "      <td>28.000000</td>\n",
       "    </tr>\n",
       "    <tr>\n",
       "      <th>75%</th>\n",
       "      <td>5793.389310</td>\n",
       "      <td>8.000000</td>\n",
       "      <td>1.200000</td>\n",
       "      <td>8.000000</td>\n",
       "      <td>2.000000</td>\n",
       "      <td>29.000000</td>\n",
       "      <td>29.000000</td>\n",
       "    </tr>\n",
       "    <tr>\n",
       "      <th>max</th>\n",
       "      <td>7274.265755</td>\n",
       "      <td>10.000000</td>\n",
       "      <td>1.600000</td>\n",
       "      <td>10.000000</td>\n",
       "      <td>4.000000</td>\n",
       "      <td>30.000000</td>\n",
       "      <td>30.000000</td>\n",
       "    </tr>\n",
       "  </tbody>\n",
       "</table>\n",
       "</div>"
      ],
      "text/plain": [
       "                FOM           el1            h1            l1            m2  \\\n",
       "count  50554.000000  50554.000000  50554.000000  50554.000000  50554.000000   \n",
       "mean    5595.144182      6.808917      1.040127      6.808917      2.025478   \n",
       "std      383.792650      2.273194      0.247373      2.273194      0.224293   \n",
       "min     4860.961767      4.000000      0.600000      4.000000      2.000000   \n",
       "25%     5353.314409      4.000000      0.800000      4.000000      2.000000   \n",
       "50%     5493.397313      6.000000      1.200000      6.000000      2.000000   \n",
       "75%     5793.389310      8.000000      1.200000      8.000000      2.000000   \n",
       "max     7274.265755     10.000000      1.600000     10.000000      4.000000   \n",
       "\n",
       "                 px            py  \n",
       "count  50554.000000  50554.000000  \n",
       "mean      27.458599     27.525478  \n",
       "std        1.715404      1.723124  \n",
       "min       25.000000     25.000000  \n",
       "25%       26.000000     26.000000  \n",
       "50%       27.000000     28.000000  \n",
       "75%       29.000000     29.000000  \n",
       "max       30.000000     30.000000  "
      ]
     },
     "execution_count": 12,
     "metadata": {},
     "output_type": "execute_result"
    }
   ],
   "source": [
    "df2.describe()"
   ]
  },
  {
   "cell_type": "code",
   "execution_count": 13,
   "metadata": {},
   "outputs": [
    {
     "data": {
      "text/plain": [
       "array([0.8, 1.2, 1.6, 0.6])"
      ]
     },
     "execution_count": 13,
     "metadata": {},
     "output_type": "execute_result"
    }
   ],
   "source": [
    "df2.h1.unique()"
   ]
  },
  {
   "cell_type": "code",
   "execution_count": 14,
   "metadata": {},
   "outputs": [
    {
     "data": {
      "text/html": [
       "<div>\n",
       "<style scoped>\n",
       "    .dataframe tbody tr th:only-of-type {\n",
       "        vertical-align: middle;\n",
       "    }\n",
       "\n",
       "    .dataframe tbody tr th {\n",
       "        vertical-align: top;\n",
       "    }\n",
       "\n",
       "    .dataframe thead th {\n",
       "        text-align: right;\n",
       "    }\n",
       "</style>\n",
       "<table border=\"1\" class=\"dataframe\">\n",
       "  <thead>\n",
       "    <tr style=\"text-align: right;\">\n",
       "      <th></th>\n",
       "      <th>FOM</th>\n",
       "      <th>el1</th>\n",
       "      <th>h1</th>\n",
       "      <th>l1</th>\n",
       "      <th>m2</th>\n",
       "      <th>px</th>\n",
       "      <th>py</th>\n",
       "    </tr>\n",
       "  </thead>\n",
       "  <tbody>\n",
       "    <tr>\n",
       "      <th>0</th>\n",
       "      <td>0.382875</td>\n",
       "      <td>6</td>\n",
       "      <td>0.8</td>\n",
       "      <td>6</td>\n",
       "      <td>2</td>\n",
       "      <td>30</td>\n",
       "      <td>30</td>\n",
       "    </tr>\n",
       "    <tr>\n",
       "      <th>1</th>\n",
       "      <td>0.342346</td>\n",
       "      <td>6</td>\n",
       "      <td>0.8</td>\n",
       "      <td>6</td>\n",
       "      <td>2</td>\n",
       "      <td>30</td>\n",
       "      <td>30</td>\n",
       "    </tr>\n",
       "    <tr>\n",
       "      <th>2</th>\n",
       "      <td>0.300608</td>\n",
       "      <td>6</td>\n",
       "      <td>0.8</td>\n",
       "      <td>6</td>\n",
       "      <td>2</td>\n",
       "      <td>30</td>\n",
       "      <td>30</td>\n",
       "    </tr>\n",
       "    <tr>\n",
       "      <th>3</th>\n",
       "      <td>0.258030</td>\n",
       "      <td>6</td>\n",
       "      <td>0.8</td>\n",
       "      <td>6</td>\n",
       "      <td>2</td>\n",
       "      <td>30</td>\n",
       "      <td>30</td>\n",
       "    </tr>\n",
       "    <tr>\n",
       "      <th>4</th>\n",
       "      <td>0.215224</td>\n",
       "      <td>6</td>\n",
       "      <td>0.8</td>\n",
       "      <td>6</td>\n",
       "      <td>2</td>\n",
       "      <td>30</td>\n",
       "      <td>30</td>\n",
       "    </tr>\n",
       "  </tbody>\n",
       "</table>\n",
       "</div>"
      ],
      "text/plain": [
       "        FOM  el1   h1  l1  m2  px  py\n",
       "0  0.382875    6  0.8   6   2  30  30\n",
       "1  0.342346    6  0.8   6   2  30  30\n",
       "2  0.300608    6  0.8   6   2  30  30\n",
       "3  0.258030    6  0.8   6   2  30  30\n",
       "4  0.215224    6  0.8   6   2  30  30"
      ]
     },
     "execution_count": 14,
     "metadata": {},
     "output_type": "execute_result"
    }
   ],
   "source": [
    "from sklearn.preprocessing import StandardScaler\n",
    "scaler = StandardScaler()\n",
    "\n",
    "df2[['FOM']] = scaler.fit_transform(df2[['FOM']])\n",
    "df2.head()"
   ]
  },
  {
   "cell_type": "code",
   "execution_count": 15,
   "metadata": {},
   "outputs": [],
   "source": [
    "df2.to_csv('Data2.csv',index=False)"
   ]
  },
  {
   "cell_type": "code",
   "execution_count": 16,
   "metadata": {},
   "outputs": [
    {
     "name": "stdout",
     "output_type": "stream",
     "text": [
      "Linear Regression MSE: 0.36578501098805993\n"
     ]
    }
   ],
   "source": [
    "import pandas as pd\n",
    "from sklearn.model_selection import train_test_split\n",
    "from sklearn.linear_model import LinearRegression, Ridge\n",
    "from sklearn.svm import SVR\n",
    "from sklearn.tree import DecisionTreeRegressor\n",
    "from sklearn.ensemble import RandomForestRegressor\n",
    "from sklearn.metrics import mean_squared_error\n",
    "\n",
    "# Split the data into training and testing sets\n",
    "X = df2.drop('FOM', axis=1)\n",
    "y = df2['FOM']\n",
    "X_train, X_test, y_train, y_test = train_test_split(X, y, test_size=0.2, random_state=42)\n",
    "\n",
    "# Linear Regression\n",
    "linear_reg = LinearRegression()\n",
    "linear_reg.fit(X_train, y_train)\n",
    "linear_reg_pred = linear_reg.predict(X_test)\n",
    "linear_reg_mse = mean_squared_error(y_test, linear_reg_pred)\n",
    "print(\"Linear Regression MSE:\", linear_reg_mse)"
   ]
  },
  {
   "cell_type": "code",
   "execution_count": 16,
   "metadata": {},
   "outputs": [
    {
     "name": "stdout",
     "output_type": "stream",
     "text": [
      "SVM MSE: 0.3488647289050926\n"
     ]
    }
   ],
   "source": [
    "# SVM with RBF kernel\n",
    "svm_reg = SVR()\n",
    "svm_reg.fit(X_train, y_train)\n",
    "svm_reg_pred = svm_reg.predict(X_test)\n",
    "svm_reg_mse = mean_squared_error(y_test, svm_reg_pred)\n",
    "print(\"SVM MSE:\", svm_reg_mse)"
   ]
  },
  {
   "cell_type": "code",
   "execution_count": 17,
   "metadata": {},
   "outputs": [
    {
     "name": "stdout",
     "output_type": "stream",
     "text": [
      "Decision Tree MSE: 0.3189059350973806\n"
     ]
    }
   ],
   "source": [
    "# Decision Tree\n",
    "tree_reg = DecisionTreeRegressor(max_depth=15, random_state=42)\n",
    "tree_reg.fit(X_train, y_train)\n",
    "tree_reg_pred = tree_reg.predict(X_test)\n",
    "tree_reg_mse = mean_squared_error(y_test, tree_reg_pred)\n",
    "print(\"Decision Tree MSE:\", tree_reg_mse)"
   ]
  },
  {
   "cell_type": "code",
   "execution_count": 18,
   "metadata": {},
   "outputs": [
    {
     "name": "stdout",
     "output_type": "stream",
     "text": [
      "Random Forest MSE: 0.3187651807914747\n"
     ]
    }
   ],
   "source": [
    "# Random Forest\n",
    "rf_reg = RandomForestRegressor()\n",
    "rf_reg.fit(X_train, y_train)\n",
    "rf_reg_pred = rf_reg.predict(X_test)\n",
    "rf_reg_mse = mean_squared_error(y_test, rf_reg_pred)\n",
    "print(\"Random Forest MSE:\", rf_reg_mse)"
   ]
  },
  {
   "cell_type": "code",
   "execution_count": 19,
   "metadata": {},
   "outputs": [
    {
     "name": "stdout",
     "output_type": "stream",
     "text": [
      "Ridge Regression MSE: 0.3657603504459743\n"
     ]
    }
   ],
   "source": [
    "# Ridge Regression\n",
    "ridge_reg = Ridge(alpha=0.00001)\n",
    "ridge_reg.fit(X_train, y_train)\n",
    "ridge_reg_pred = ridge_reg.predict(X_test)\n",
    "ridge_reg_mse = mean_squared_error(y_test, ridge_reg_pred)\n",
    "print(\"Ridge Regression MSE:\", ridge_reg_mse)"
   ]
  },
  {
   "cell_type": "code",
   "execution_count": 20,
   "metadata": {},
   "outputs": [
    {
     "name": "stdout",
     "output_type": "stream",
     "text": [
      "Decision Tree Regressor R2: 0.6809505679515497\n",
      "Linear Regression R2: 0.6340503980525158\n",
      "Random Forest Regressor R2: 0.681091385592162\n",
      "Ridge R2: 0.6340750696910165\n",
      "SVR R2: 0.650978293693661\n"
     ]
    }
   ],
   "source": [
    "from sklearn.metrics import accuracy_score\n",
    "from sklearn.metrics import r2_score\n",
    "\n",
    "r2_dt = r2_score(y_test, tree_reg_pred)\n",
    "r2_lr = r2_score(y_test, linear_reg_pred)\n",
    "r2_rf = r2_score(y_test, rf_reg_pred)\n",
    "r2_ridge = r2_score(y_test, ridge_reg_pred)\n",
    "r2_svr = r2_score(y_test, svm_reg_pred)\n",
    "\n",
    "print(\"Decision Tree Regressor R2:\", r2_dt)\n",
    "print(\"Linear Regression R2:\", r2_lr)\n",
    "print(\"Random Forest Regressor R2:\", r2_rf)\n",
    "print(\"Ridge R2:\", r2_ridge)\n",
    "print(\"SVR R2:\", r2_svr)"
   ]
  },
  {
   "cell_type": "code",
   "execution_count": 35,
   "metadata": {},
   "outputs": [
    {
     "name": "stdout",
     "output_type": "stream",
     "text": [
      "Epoch 1/10\n",
      "1264/1264 [==============================] - 2s 1ms/step - loss: 1.0106 - val_loss: 0.9996\n",
      "Epoch 2/10\n",
      "1264/1264 [==============================] - 1s 928us/step - loss: 1.0002 - val_loss: 0.9997\n",
      "Epoch 3/10\n",
      "1264/1264 [==============================] - 1s 957us/step - loss: 1.0002 - val_loss: 0.9996\n",
      "Epoch 4/10\n",
      "1264/1264 [==============================] - 1s 938us/step - loss: 1.0002 - val_loss: 0.9996\n",
      "Epoch 5/10\n",
      "1264/1264 [==============================] - 1s 1ms/step - loss: 1.0002 - val_loss: 0.9996\n",
      "Epoch 6/10\n",
      "1264/1264 [==============================] - 1s 939us/step - loss: 1.0002 - val_loss: 0.9998\n",
      "Epoch 7/10\n",
      "1264/1264 [==============================] - 1s 968us/step - loss: 1.0002 - val_loss: 0.9998\n",
      "Epoch 8/10\n",
      "1264/1264 [==============================] - 1s 964us/step - loss: 1.0002 - val_loss: 1.0000\n",
      "Epoch 9/10\n",
      "1264/1264 [==============================] - 1s 945us/step - loss: 1.0002 - val_loss: 0.9996\n",
      "Epoch 10/10\n",
      "1264/1264 [==============================] - 1s 932us/step - loss: 1.0002 - val_loss: 0.9996\n",
      "316/316 [==============================] - 0s 661us/step - loss: 0.9996\n",
      "316/316 [==============================] - 0s 566us/step\n"
     ]
    }
   ],
   "source": [
    "import tensorflow as tf\n",
    "from tensorflow import keras\n",
    "from tensorflow.keras import layers\n",
    "\n",
    "# Define the model architecture\n",
    "model = keras.Sequential([\n",
    "    layers.Dense(64, activation='relu', input_shape=(6,)),\n",
    "    layers.Dense(32, activation='relu'),\n",
    "    layers.Dense(8, activation='relu'),\n",
    "    layers.Dense(4, activation='relu'),\n",
    "    layers.Dense(1)\n",
    "])\n",
    "\n",
    "# Compile the model\n",
    "model.compile(optimizer='adam', loss='mean_squared_error')\n",
    "\n",
    "# Train the model\n",
    "history = model.fit(X_train, y_train, epochs=10, validation_data=(X_test, y_test))\n",
    "\n",
    "# Evaluate the model\n",
    "loss = model.evaluate(X_test, y_test)\n",
    "\n",
    "# Make predictions\n",
    "predictions = model.predict(X_test)"
   ]
  },
  {
   "cell_type": "code",
   "execution_count": 36,
   "metadata": {},
   "outputs": [
    {
     "name": "stdout",
     "output_type": "stream",
     "text": [
      "DNN loss: 0.9995519518852234\n",
      "DNN R2: -1.9226489518242573e-06\n"
     ]
    }
   ],
   "source": [
    "from sklearn.metrics import accuracy_score\n",
    "from sklearn.metrics import r2_score\n",
    "\n",
    "print(\"DNN loss:\",loss)\n",
    "r2_dnn=r2_score(y_test, predictions)\n",
    "print(\"DNN R2:\",r2_dnn)"
   ]
  },
  {
   "cell_type": "code",
   "execution_count": 23,
   "metadata": {},
   "outputs": [],
   "source": [
    "# def lstm_data(Xtr,Xte,Ytr,Yte,T):\n",
    "#     X_train, y_train = [], []\n",
    "#     for i in range(Ytr.shape[0] - (T-1)):\n",
    "#         X_train.append(pd.DataFrame(Xtr).iloc[i:i+T].values)\n",
    "#         y_train.append(pd.DataFrame(Ytr).iloc[i + (T-1)])\n",
    "#     X_train, y_train = np.array(X_train), np.array(y_train).reshape(-1,1)\n",
    "\n",
    "#     X_test, y_test = [], []\n",
    "#     for i in range(Yte.shape[0]-(T-1)):\n",
    "#         X_test.append(pd.DataFrame(Xte).iloc[i:i+T].values)\n",
    "#         y_test.append(pd.DataFrame(Yte).iloc[i+ (T-1)])\n",
    "#     X_test, y_test = np.array(X_test), np.array(y_test).reshape(-1,1)  \n",
    "\n",
    "#     return X_train,X_test,y_train,y_test\n",
    "\n",
    "# Xtrain,Xtest,Ytrain,Ytest=train_test_split(X,y,random_state=42,test_size=0.2)\n",
    "# X_train,X_test,y_train,y_test=lstm_data(Xtrain,Xtest,Ytrain,Ytest,1)\n",
    "# print(f'Train data dimensions: {X_train.shape}, {y_train.shape}')\n",
    "# print(f'Test data dimensions: {X_test.shape}, {y_test.shape}')"
   ]
  },
  {
   "cell_type": "code",
   "execution_count": 24,
   "metadata": {},
   "outputs": [],
   "source": [
    "# X_train, X_test, y_train, y_test = train_test_split(X, y, test_size=0.2, random_state=42)\n",
    "\n",
    "# # Reshape the input data to match the LSTM input shape\n",
    "# X_train = np.reshape(X_train, (X_train.shape[0], X_train.shape[1], 4))\n",
    "\n",
    "# # Reshape the test data\n",
    "# X_test = np.reshape(X_test, (X_test.shape[0], X_test.shape[1], 4))"
   ]
  },
  {
   "cell_type": "code",
   "execution_count": 21,
   "metadata": {},
   "outputs": [
    {
     "name": "stdout",
     "output_type": "stream",
     "text": [
      "Epoch 1/20\n",
      "1264/1264 [==============================] - 13s 7ms/step - loss: 0.5579 - val_loss: 0.4065\n",
      "Epoch 2/20\n",
      "1264/1264 [==============================] - 8s 6ms/step - loss: 0.3551 - val_loss: 0.3421\n",
      "Epoch 3/20\n",
      "1264/1264 [==============================] - 7s 6ms/step - loss: 0.3416 - val_loss: 0.3304\n",
      "Epoch 4/20\n",
      "1264/1264 [==============================] - 4s 3ms/step - loss: 0.3360 - val_loss: 0.3248\n",
      "Epoch 5/20\n",
      "1264/1264 [==============================] - 5s 4ms/step - loss: 0.3293 - val_loss: 0.3230\n",
      "Epoch 6/20\n",
      "1264/1264 [==============================] - 6s 5ms/step - loss: 0.3269 - val_loss: 0.3303\n",
      "Epoch 7/20\n",
      "1264/1264 [==============================] - 5s 4ms/step - loss: 0.3249 - val_loss: 0.3273\n",
      "Epoch 8/20\n",
      "1264/1264 [==============================] - 5s 4ms/step - loss: 0.3250 - val_loss: 0.3418\n",
      "Epoch 9/20\n",
      "1264/1264 [==============================] - 7s 6ms/step - loss: 0.3223 - val_loss: 0.3241\n",
      "Epoch 10/20\n",
      "1264/1264 [==============================] - 8s 6ms/step - loss: 0.3233 - val_loss: 0.3252\n",
      "Epoch 11/20\n",
      "1264/1264 [==============================] - 8s 6ms/step - loss: 0.3202 - val_loss: 0.3391\n",
      "Epoch 12/20\n",
      "1264/1264 [==============================] - 7s 6ms/step - loss: 0.3207 - val_loss: 0.3230\n",
      "Epoch 13/20\n",
      "1264/1264 [==============================] - 8s 7ms/step - loss: 0.3190 - val_loss: 0.3421\n",
      "Epoch 14/20\n",
      "1264/1264 [==============================] - 10s 8ms/step - loss: 0.3192 - val_loss: 0.3239\n",
      "Epoch 15/20\n",
      "1264/1264 [==============================] - 7s 6ms/step - loss: 0.3195 - val_loss: 0.3186\n",
      "Epoch 16/20\n",
      "1264/1264 [==============================] - 7s 6ms/step - loss: 0.3159 - val_loss: 0.3282\n",
      "Epoch 17/20\n",
      "1264/1264 [==============================] - 8s 6ms/step - loss: 0.3163 - val_loss: 0.3177\n",
      "Epoch 18/20\n",
      "1264/1264 [==============================] - 7s 6ms/step - loss: 0.3166 - val_loss: 0.3169\n",
      "Epoch 19/20\n",
      "1264/1264 [==============================] - 9s 7ms/step - loss: 0.3161 - val_loss: 0.3373\n",
      "Epoch 20/20\n",
      "1264/1264 [==============================] - 8s 6ms/step - loss: 0.3154 - val_loss: 0.3298\n",
      "316/316 [==============================] - 1s 2ms/step\n"
     ]
    }
   ],
   "source": [
    "import numpy as np\n",
    "from keras.models import Sequential\n",
    "from keras.layers import LSTM, Dense\n",
    "\n",
    "X = df2.drop('FOM', axis=1)\n",
    "y = df2['FOM']\n",
    "X=X.values\n",
    "y=y.values\n",
    "X_train, X_test, y_train, y_test = train_test_split(X, y, test_size=0.2, random_state=42)\n",
    "\n",
    "X_train = np.reshape(X_train, (X_train.shape[0], X_train.shape[1], 1))\n",
    "\n",
    "# Reshape the test data\n",
    "X_test = np.reshape(X_test, (X_test.shape[0], X_test.shape[1], 1))\n",
    "# Create the LSTM model\n",
    "model = Sequential()\n",
    "model.add(LSTM(32, input_shape=(X_train.shape[1], 1), return_sequences=True))\n",
    "model.add(LSTM(16))\n",
    "model.add(Dense(32))\n",
    "model.add(Dense(16))\n",
    "model.add(Dense(1))\n",
    "\n",
    "# Compile the model\n",
    "model.compile(loss='mean_squared_error', optimizer='adam')\n",
    "\n",
    "# Train the model\n",
    "history=model.fit(X_train, y_train, validation_data=(X_test, y_test),epochs=20, batch_size=32)\n",
    "\n",
    "# Make predictions\n",
    "predictions = model.predict(X_test)\n"
   ]
  },
  {
   "cell_type": "code",
   "execution_count": 22,
   "metadata": {},
   "outputs": [
    {
     "data": {
      "image/png": "[encoded data removed]",
      "text/plain": [
       "<Figure size 720x432 with 1 Axes>"
      ]
     },
     "metadata": {
      "needs_background": "light"
     },
     "output_type": "display_data"
    }
   ],
   "source": [
    "import matplotlib.pyplot as plt\n",
    "\n",
    "plt.figure(figsize=(10, 6))\n",
    "plt.plot(history.history['loss'], label='Training Loss')\n",
    "plt.plot(history.history['val_loss'], label='Validation Loss')\n",
    "plt.xlabel('Epochs')\n",
    "plt.ylabel('Loss')\n",
    "plt.title('Loss Curve')\n",
    "plt.legend()\n",
    "plt.show()"
   ]
  },
  {
   "cell_type": "code",
   "execution_count": 18,
   "metadata": {},
   "outputs": [
    {
     "name": "stdout",
     "output_type": "stream",
     "text": [
      "Model: \"sequential\"\n",
      "_________________________________________________________________\n",
      " Layer (type)                Output Shape              Param #   \n",
      "=================================================================\n",
      " lstm (LSTM)                 (None, 6, 32)             4352      \n",
      "                                                                 \n",
      " lstm_1 (LSTM)               (None, 16)                3136      \n",
      "                                                                 \n",
      " dense (Dense)               (None, 32)                544       \n",
      "                                                                 \n",
      " dense_1 (Dense)             (None, 16)                528       \n",
      "                                                                 \n",
      " dense_2 (Dense)             (None, 1)                 17        \n",
      "                                                                 \n",
      "=================================================================\n",
      "Total params: 8,577\n",
      "Trainable params: 8,577\n",
      "Non-trainable params: 0\n",
      "_________________________________________________________________\n"
     ]
    }
   ],
   "source": [
    "model.summary()"
   ]
  },
  {
   "cell_type": "code",
   "execution_count": 26,
   "metadata": {},
   "outputs": [
    {
     "data": {
      "text/plain": [
       "(40443, 6, 1)"
      ]
     },
     "execution_count": 26,
     "metadata": {},
     "output_type": "execute_result"
    }
   ],
   "source": [
    "X_train.shape"
   ]
  },
  {
   "cell_type": "code",
   "execution_count": 38,
   "metadata": {},
   "outputs": [
    {
     "name": "stdout",
     "output_type": "stream",
     "text": [
      "LSTM R2: 0.6765359441605379\n"
     ]
    }
   ],
   "source": [
    "from sklearn.metrics import r2_score\n",
    "\n",
    "# print(\"RNN loss:\",loss)\n",
    "r2_dnn=r2_score(y_test, predictions)\n",
    "print(\"LSTM R2:\",r2_dnn)"
   ]
  },
  {
   "cell_type": "code",
   "execution_count": 28,
   "metadata": {},
   "outputs": [
    {
     "data": {
      "text/plain": [
       "array([[[ 8. ],\n",
       "        [ 0.8],\n",
       "        [ 8. ],\n",
       "        [ 2. ],\n",
       "        [25. ],\n",
       "        [30. ]],\n",
       "\n",
       "       [[10. ],\n",
       "        [ 1.2],\n",
       "        [10. ],\n",
       "        [ 2. ],\n",
       "        [28. ],\n",
       "        [26. ]],\n",
       "\n",
       "       [[ 4. ],\n",
       "        [ 1.6],\n",
       "        [ 4. ],\n",
       "        [ 2. ],\n",
       "        [26. ],\n",
       "        [25. ]],\n",
       "\n",
       "       ...,\n",
       "\n",
       "       [[ 8. ],\n",
       "        [ 1.2],\n",
       "        [ 8. ],\n",
       "        [ 2. ],\n",
       "        [25. ],\n",
       "        [27. ]],\n",
       "\n",
       "       [[ 8. ],\n",
       "        [ 0.8],\n",
       "        [ 8. ],\n",
       "        [ 2. ],\n",
       "        [27. ],\n",
       "        [28. ]],\n",
       "\n",
       "       [[ 4. ],\n",
       "        [ 0.8],\n",
       "        [ 4. ],\n",
       "        [ 2. ],\n",
       "        [26. ],\n",
       "        [30. ]]])"
      ]
     },
     "execution_count": 28,
     "metadata": {},
     "output_type": "execute_result"
    }
   ],
   "source": [
    "X_test"
   ]
  },
  {
   "cell_type": "code",
   "execution_count": null,
   "metadata": {},
   "outputs": [],
   "source": []
  },
  {
   "cell_type": "code",
   "execution_count": null,
   "metadata": {},
   "outputs": [],
   "source": []
  },
  {
   "cell_type": "code",
   "execution_count": 41,
   "metadata": {},
   "outputs": [
    {
     "name": "stdout",
     "output_type": "stream",
     "text": [
      "Epoch 1/50\n",
      "1012/1012 [==============================] - 7s 4ms/step - loss: 0.0129 - val_loss: 0.0082\n",
      "Epoch 2/50\n",
      "1012/1012 [==============================] - 4s 4ms/step - loss: 0.0090 - val_loss: 0.0081\n",
      "Epoch 3/50\n",
      "1012/1012 [==============================] - 4s 4ms/step - loss: 0.0087 - val_loss: 0.0081\n",
      "Epoch 4/50\n",
      "1012/1012 [==============================] - 4s 4ms/step - loss: 0.0085 - val_loss: 0.0082\n",
      "Epoch 5/50\n",
      "1012/1012 [==============================] - 4s 4ms/step - loss: 0.0085 - val_loss: 0.0080\n",
      "Epoch 6/50\n",
      "1012/1012 [==============================] - 4s 4ms/step - loss: 0.0085 - val_loss: 0.0085\n",
      "Epoch 7/50\n",
      "1012/1012 [==============================] - 4s 4ms/step - loss: 0.0084 - val_loss: 0.0081\n",
      "Epoch 8/50\n",
      "1012/1012 [==============================] - 4s 4ms/step - loss: 0.0085 - val_loss: 0.0080\n",
      "Epoch 9/50\n",
      "1012/1012 [==============================] - 4s 4ms/step - loss: 0.0084 - val_loss: 0.0084\n",
      "Epoch 10/50\n",
      "1012/1012 [==============================] - 4s 4ms/step - loss: 0.0084 - val_loss: 0.0079\n",
      "Epoch 11/50\n",
      "1012/1012 [==============================] - 4s 4ms/step - loss: 0.0084 - val_loss: 0.0080\n",
      "Epoch 12/50\n",
      "1012/1012 [==============================] - 4s 4ms/step - loss: 0.0084 - val_loss: 0.0081\n",
      "Epoch 13/50\n",
      "1012/1012 [==============================] - 4s 4ms/step - loss: 0.0083 - val_loss: 0.0080\n",
      "Epoch 14/50\n",
      "1012/1012 [==============================] - 4s 4ms/step - loss: 0.0084 - val_loss: 0.0079\n",
      "Epoch 15/50\n",
      "1012/1012 [==============================] - 4s 4ms/step - loss: 0.0084 - val_loss: 0.0084\n",
      "Epoch 16/50\n",
      "1012/1012 [==============================] - 4s 4ms/step - loss: 0.0083 - val_loss: 0.0080\n",
      "Epoch 17/50\n",
      "1012/1012 [==============================] - 4s 4ms/step - loss: 0.0083 - val_loss: 0.0080\n",
      "Epoch 18/50\n",
      "1012/1012 [==============================] - 4s 4ms/step - loss: 0.0083 - val_loss: 0.0081\n",
      "Epoch 19/50\n",
      "1012/1012 [==============================] - 4s 4ms/step - loss: 0.0083 - val_loss: 0.0079\n",
      "Epoch 20/50\n",
      "1012/1012 [==============================] - 4s 4ms/step - loss: 0.0083 - val_loss: 0.0079\n",
      "Epoch 21/50\n",
      "1012/1012 [==============================] - 4s 4ms/step - loss: 0.0083 - val_loss: 0.0080\n",
      "Epoch 22/50\n",
      "1012/1012 [==============================] - 4s 4ms/step - loss: 0.0083 - val_loss: 0.0079\n",
      "Epoch 23/50\n",
      "1012/1012 [==============================] - 4s 4ms/step - loss: 0.0082 - val_loss: 0.0081\n",
      "Epoch 24/50\n",
      "1012/1012 [==============================] - 4s 4ms/step - loss: 0.0083 - val_loss: 0.0080\n",
      "Epoch 25/50\n",
      "1012/1012 [==============================] - 4s 4ms/step - loss: 0.0083 - val_loss: 0.0080\n",
      "Epoch 26/50\n",
      "1012/1012 [==============================] - 4s 4ms/step - loss: 0.0082 - val_loss: 0.0080\n",
      "Epoch 27/50\n",
      "1012/1012 [==============================] - 4s 4ms/step - loss: 0.0082 - val_loss: 0.0080\n",
      "Epoch 28/50\n",
      "1012/1012 [==============================] - 4s 4ms/step - loss: 0.0083 - val_loss: 0.0079\n",
      "Epoch 29/50\n",
      "1012/1012 [==============================] - 4s 4ms/step - loss: 0.0083 - val_loss: 0.0081\n",
      "Epoch 30/50\n",
      "1012/1012 [==============================] - 4s 4ms/step - loss: 0.0082 - val_loss: 0.0081\n",
      "Epoch 31/50\n",
      "1012/1012 [==============================] - 4s 4ms/step - loss: 0.0082 - val_loss: 0.0079\n",
      "Epoch 32/50\n",
      "1012/1012 [==============================] - 4s 4ms/step - loss: 0.0082 - val_loss: 0.0080\n",
      "Epoch 33/50\n",
      "1012/1012 [==============================] - 4s 4ms/step - loss: 0.0082 - val_loss: 0.0079\n",
      "Epoch 34/50\n",
      "1012/1012 [==============================] - 4s 4ms/step - loss: 0.0082 - val_loss: 0.0079\n",
      "Epoch 35/50\n",
      "1012/1012 [==============================] - 4s 4ms/step - loss: 0.0082 - val_loss: 0.0080\n",
      "Epoch 36/50\n",
      "1012/1012 [==============================] - 4s 4ms/step - loss: 0.0082 - val_loss: 0.0079\n",
      "Epoch 37/50\n",
      "1012/1012 [==============================] - 4s 4ms/step - loss: 0.0082 - val_loss: 0.0081\n",
      "Epoch 38/50\n",
      "1012/1012 [==============================] - 4s 4ms/step - loss: 0.0082 - val_loss: 0.0079\n",
      "Epoch 39/50\n",
      "1012/1012 [==============================] - 4s 4ms/step - loss: 0.0082 - val_loss: 0.0079\n",
      "Epoch 40/50\n",
      "1012/1012 [==============================] - 4s 4ms/step - loss: 0.0083 - val_loss: 0.0079\n",
      "Epoch 41/50\n",
      "1012/1012 [==============================] - 4s 4ms/step - loss: 0.0082 - val_loss: 0.0079\n",
      "Epoch 42/50\n",
      "1012/1012 [==============================] - 4s 4ms/step - loss: 0.0082 - val_loss: 0.0079\n",
      "Epoch 43/50\n",
      "1012/1012 [==============================] - 4s 4ms/step - loss: 0.0082 - val_loss: 0.0080\n",
      "Epoch 44/50\n",
      "1012/1012 [==============================] - 5s 5ms/step - loss: 0.0082 - val_loss: 0.0081\n",
      "Epoch 45/50\n",
      "1012/1012 [==============================] - 5s 5ms/step - loss: 0.0082 - val_loss: 0.0079\n",
      "Epoch 46/50\n",
      "1012/1012 [==============================] - 5s 5ms/step - loss: 0.0082 - val_loss: 0.0080\n",
      "Epoch 47/50\n",
      "1012/1012 [==============================] - 5s 5ms/step - loss: 0.0082 - val_loss: 0.0079\n",
      "Epoch 48/50\n",
      "1012/1012 [==============================] - 4s 4ms/step - loss: 0.0082 - val_loss: 0.0080\n",
      "Epoch 49/50\n",
      "1012/1012 [==============================] - 5s 5ms/step - loss: 0.0082 - val_loss: 0.0080\n",
      "Epoch 50/50\n",
      "1012/1012 [==============================] - 5s 5ms/step - loss: 0.0082 - val_loss: 0.0079\n",
      "316/316 [==============================] - 1s 1ms/step\n",
      "R2 Score: 0.6821251163158764\n"
     ]
    }
   ],
   "source": [
    "import pandas as pd\n",
    "from sklearn.model_selection import train_test_split\n",
    "from sklearn.preprocessing import MinMaxScaler\n",
    "import tensorflow as tf\n",
    "from tensorflow.keras.models import Sequential\n",
    "from tensorflow.keras.layers import LSTM, Dense,Dropout\n",
    "from tensorflow.keras.optimizers import Adam\n",
    "from sklearn.metrics import r2_score\n",
    "\n",
    "# Load the data\n",
    "data = pd.read_csv('Data2.csv')\n",
    "\n",
    "# Split the data into features (X) and target (y)\n",
    "X = data.drop(columns=['FOM'])\n",
    "y = data['FOM']\n",
    "\n",
    "# Normalize/scale the data\n",
    "scaler_X = MinMaxScaler()\n",
    "scaler_y = MinMaxScaler()\n",
    "\n",
    "X_scaled = scaler_X.fit_transform(X)\n",
    "y_scaled = scaler_y.fit_transform(y.values.reshape(-1, 1))\n",
    "\n",
    "# Split the data into training and testing sets (80% train, 20% test)\n",
    "X_train, X_test, y_train, y_test = train_test_split(X_scaled, y_scaled, test_size=0.2, random_state=42)\n",
    "\n",
    "# Reshape input to be 3D for RNN (samples, timesteps, features)\n",
    "X_train_reshaped = X_train.reshape((X_train.shape[0], 1, X_train.shape[1]))\n",
    "X_test_reshaped = X_test.reshape((X_test.shape[0], 1, X_test.shape[1]))\n",
    "\n",
    "# Build the RNN model\n",
    "model = Sequential()\n",
    "model.add(LSTM(100, activation='relu', input_shape=(1, 6), return_sequences=True))\n",
    "model.add(Dropout(0.2))\n",
    "model.add(LSTM(100, activation='relu', return_sequences=True))\n",
    "model.add(Dropout(0.2))\n",
    "model.add(LSTM(50, activation='relu'))\n",
    "model.add(Dropout(0.2))\n",
    "model.add(Dense(1))\n",
    "\n",
    "# Compile the model\n",
    "model.compile(optimizer=Adam(learning_rate=0.001), loss='mse')\n",
    "\n",
    "# Train the model for more epochs\n",
    "history = model.fit(X_train_reshaped, y_train, epochs=50, batch_size=32, validation_split=0.2)\n",
    "\n",
    "# Predict on the test set\n",
    "y_pred_scaled = model.predict(X_test_reshaped)\n",
    "\n",
    "# Inverse transform the predictions and true values to original scale\n",
    "y_pred = scaler_y.inverse_transform(y_pred_scaled)\n",
    "y_test_orig = scaler_y.inverse_transform(y_test)\n",
    "\n",
    "# Calculate the R2 score\n",
    "r2 = r2_score(y_test_orig, y_pred)\n",
    "print('R2 Score:', r2)"
   ]
  },
  {
   "cell_type": "code",
   "execution_count": 43,
   "metadata": {},
   "outputs": [
    {
     "name": "stdout",
     "output_type": "stream",
     "text": [
      "Collecting xgboost\n",
      "  Obtaining dependency information for xgboost from https://files.pythonhosted.org/packages/24/ec/ad387100fa3cc2b9b81af0829b5ecfe75ec5bb19dd7c19d4fea06fb81802/xgboost-2.0.3-py3-none-win_amd64.whl.metadata\n",
      "  Downloading xgboost-2.0.3-py3-none-win_amd64.whl.metadata (2.0 kB)\n",
      "Requirement already satisfied: numpy in c:\\users\\vipul\\appdata\\local\\programs\\python\\python310\\lib\\site-packages (from xgboost) (1.23.4)\n",
      "Requirement already satisfied: scipy in c:\\users\\vipul\\appdata\\local\\programs\\python\\python310\\lib\\site-packages (from xgboost) (1.11.4)\n",
      "Downloading xgboost-2.0.3-py3-none-win_amd64.whl (99.8 MB)\n",
      "   ---------------------------------------- 99.8/99.8 MB 2.0 MB/s eta 0:00:00\n",
      "Installing collected packages: xgboost\n",
      "Successfully installed xgboost-2.0.3\n",
      "Note: you may need to restart the kernel to use updated packages.\n"
     ]
    },
    {
     "name": "stderr",
     "output_type": "stream",
     "text": [
      "WARNING: Ignoring invalid distribution -rotobuf (c:\\users\\vipul\\appdata\\roaming\\python\\python310\\site-packages)\n",
      "WARNING: Ignoring invalid distribution -rotobuf (c:\\users\\vipul\\appdata\\roaming\\python\\python310\\site-packages)\n",
      "WARNING: Ignoring invalid distribution - (c:\\users\\vipul\\appdata\\local\\programs\\python\\python310\\lib\\site-packages)\n",
      "WARNING: Ignoring invalid distribution -otobuf (c:\\users\\vipul\\appdata\\local\\programs\\python\\python310\\lib\\site-packages)\n",
      "WARNING: Ignoring invalid distribution -otobuf (c:\\users\\vipul\\appdata\\local\\programs\\python\\python310\\lib\\site-packages)\n",
      "WARNING: Ignoring invalid distribution -rotobuf (c:\\users\\vipul\\appdata\\roaming\\python\\python310\\site-packages)\n",
      "WARNING: Ignoring invalid distribution - (c:\\users\\vipul\\appdata\\local\\programs\\python\\python310\\lib\\site-packages)\n",
      "WARNING: Ignoring invalid distribution -otobuf (c:\\users\\vipul\\appdata\\local\\programs\\python\\python310\\lib\\site-packages)\n",
      "WARNING: Ignoring invalid distribution -otobuf (c:\\users\\vipul\\appdata\\local\\programs\\python\\python310\\lib\\site-packages)\n",
      "WARNING: Ignoring invalid distribution -rotobuf (c:\\users\\vipul\\appdata\\roaming\\python\\python310\\site-packages)\n",
      "WARNING: Ignoring invalid distribution -rotobuf (c:\\users\\vipul\\appdata\\roaming\\python\\python310\\site-packages)\n",
      "WARNING: Ignoring invalid distribution -rotobuf (c:\\users\\vipul\\appdata\\roaming\\python\\python310\\site-packages)\n",
      "\n",
      "[notice] A new release of pip is available: 23.2.1 -> 24.0\n",
      "[notice] To update, run: python.exe -m pip install --upgrade pip\n"
     ]
    }
   ],
   "source": [
    "pip install xgboost"
   ]
  },
  {
   "cell_type": "code",
   "execution_count": 52,
   "metadata": {},
   "outputs": [
    {
     "name": "stdout",
     "output_type": "stream",
     "text": [
      "R2 Score: 0.6736214538517045\n"
     ]
    }
   ],
   "source": [
    "import pandas as pd\n",
    "from sklearn.model_selection import train_test_split\n",
    "from sklearn.preprocessing import MinMaxScaler\n",
    "import xgboost as xgb\n",
    "from sklearn.metrics import r2_score\n",
    "\n",
    "# Load the data\n",
    "data = pd.read_csv('Data2.csv')\n",
    "\n",
    "# Split the data into features (X) and target (y)\n",
    "X = data.drop(columns=['FOM'])\n",
    "y = data['FOM']\n",
    "\n",
    "# Split the data into training and testing sets (80% train, 20% test)\n",
    "X_train, X_test, y_train, y_test = train_test_split(X, y, test_size=0.2, random_state=42)\n",
    "\n",
    "# Train an XGBoost regressor\n",
    "xgb_regressor = xgb.XGBRegressor(objective='reg:squarederror', n_estimators=100, learning_rate=0.2, max_depth=1)\n",
    "xgb_regressor.fit(X_train, y_train)\n",
    "\n",
    "# Predict on the test set\n",
    "y_pred = xgb_regressor.predict(X_test)\n",
    "\n",
    "# Calculate the R2 score\n",
    "r2 = r2_score(y_test, y_pred)\n",
    "print('R2 Score:', r2)\n"
   ]
  },
  {
   "cell_type": "code",
   "execution_count": null,
   "metadata": {},
   "outputs": [],
   "source": []
  },
  {
   "cell_type": "code",
   "execution_count": 52,
   "metadata": {},
   "outputs": [],
   "source": [
    "names=['Dual_band_comp1.csv','Dual_band_comp2.csv','Dual_band_comp3.csv','Dual_band_comp4.csv','Dual_band_comp5.csv']\n",
    "actual_foms=[]\n",
    "predicted_foms=[]"
   ]
  },
  {
   "cell_type": "code",
   "execution_count": 53,
   "metadata": {},
   "outputs": [
    {
     "name": "stderr",
     "output_type": "stream",
     "text": [
      "C:\\Users\\vipul\\AppData\\Local\\Temp\\ipykernel_21704\\929445152.py:5: SettingWithCopyWarning: \n",
      "A value is trying to be set on a copy of a slice from a DataFrame.\n",
      "Try using .loc[row_indexer,col_indexer] = value instead\n",
      "\n",
      "See the caveats in the documentation: https://pandas.pydata.org/pandas-docs/stable/user_guide/indexing.html#returning-a-view-versus-a-copy\n",
      "  fil_val['ind']=l\n"
     ]
    },
    {
     "name": "stdout",
     "output_type": "stream",
     "text": [
      "1/1 [==============================] - 0s 111ms/step\n",
      "1/1 [==============================] - 0s 24ms/step\n",
      "1/1 [==============================] - 0s 23ms/step\n"
     ]
    },
    {
     "name": "stderr",
     "output_type": "stream",
     "text": [
      "C:\\Users\\vipul\\AppData\\Local\\Temp\\ipykernel_21704\\929445152.py:5: SettingWithCopyWarning: \n",
      "A value is trying to be set on a copy of a slice from a DataFrame.\n",
      "Try using .loc[row_indexer,col_indexer] = value instead\n",
      "\n",
      "See the caveats in the documentation: https://pandas.pydata.org/pandas-docs/stable/user_guide/indexing.html#returning-a-view-versus-a-copy\n",
      "  fil_val['ind']=l\n",
      "C:\\Users\\vipul\\AppData\\Local\\Temp\\ipykernel_21704\\929445152.py:5: SettingWithCopyWarning: \n",
      "A value is trying to be set on a copy of a slice from a DataFrame.\n",
      "Try using .loc[row_indexer,col_indexer] = value instead\n",
      "\n",
      "See the caveats in the documentation: https://pandas.pydata.org/pandas-docs/stable/user_guide/indexing.html#returning-a-view-versus-a-copy\n",
      "  fil_val['ind']=l\n",
      "C:\\Users\\vipul\\AppData\\Local\\Temp\\ipykernel_21704\\929445152.py:5: SettingWithCopyWarning: \n",
      "A value is trying to be set on a copy of a slice from a DataFrame.\n",
      "Try using .loc[row_indexer,col_indexer] = value instead\n",
      "\n",
      "See the caveats in the documentation: https://pandas.pydata.org/pandas-docs/stable/user_guide/indexing.html#returning-a-view-versus-a-copy\n",
      "  fil_val['ind']=l\n"
     ]
    },
    {
     "name": "stdout",
     "output_type": "stream",
     "text": [
      "1/1 [==============================] - 0s 23ms/step\n",
      "1/1 [==============================] - 0s 26ms/step\n"
     ]
    },
    {
     "name": "stderr",
     "output_type": "stream",
     "text": [
      "C:\\Users\\vipul\\AppData\\Local\\Temp\\ipykernel_21704\\929445152.py:5: SettingWithCopyWarning: \n",
      "A value is trying to be set on a copy of a slice from a DataFrame.\n",
      "Try using .loc[row_indexer,col_indexer] = value instead\n",
      "\n",
      "See the caveats in the documentation: https://pandas.pydata.org/pandas-docs/stable/user_guide/indexing.html#returning-a-view-versus-a-copy\n",
      "  fil_val['ind']=l\n"
     ]
    }
   ],
   "source": [
    "for i in names:\n",
    "    df_val=pd.read_csv(i)\n",
    "    fil_val = df_val[((df_val['Frequency'] >= 2.4) & (df_val['Frequency'] <= 3))|((df_val['Frequency'] >= 5.15) & (df_val['Frequency'] <= 6))]\n",
    "    l=list(range(1,162))\n",
    "    fil_val['ind']=l\n",
    "    fil_val=fil_val.set_index('ind')\n",
    "    fom=[]\n",
    "    el1=[]\n",
    "    h1=[]\n",
    "    l1=[]\n",
    "    m2=[]\n",
    "    px=[]\n",
    "    py=[]\n",
    "    # filtered_df = df1[((df1['Frequency'] >= 2.4) & (df1['Frequency'] <= 3))|((df1['Frequency'] >= 5.15) & (df1['Frequency'] <= 6))]\n",
    "    for i in fil_val.index:\n",
    "        temp=apt_dataframe(df_val[i:i+162])\n",
    "        fom.append(temp)\n",
    "        el1.append(df_val['el1'][i])\n",
    "        h1.append(df_val['h1'][i])\n",
    "        l1.append(df_val['l1'][i])\n",
    "        m2.append(df_val['m2'][i])\n",
    "        px.append(df_val['px'][i])\n",
    "        py.append(df_val['py'][i])\n",
    "        i=i+162\n",
    "        if(i>max(fil_val.index)):\n",
    "            break\n",
    "    val=pd.DataFrame({'FOM':fom,'el1':el1,'h1':h1,'l1':l1,'m2':m2,'px':px,'py':py})\n",
    "    X = val.drop('FOM', axis=1)\n",
    "    y = val['FOM']\n",
    "    X=X.values\n",
    "    y=y.values\n",
    "    actual_foms.append(y[0])\n",
    "    X_train = np.reshape(X, (X.shape[0], X.shape[1], 1))\n",
    "    predictions = model.predict(X_train)\n",
    "    predicted_foms.append(predictions[0][0])"
   ]
  },
  {
   "cell_type": "code",
   "execution_count": 54,
   "metadata": {},
   "outputs": [
    {
     "data": {
      "text/plain": [
       "[6060.139345310001, 5786.8857522, 5695.29696869, 5599.53114536, 5909.11031321]"
      ]
     },
     "execution_count": 54,
     "metadata": {},
     "output_type": "execute_result"
    }
   ],
   "source": [
    "actual_foms"
   ]
  },
  {
   "cell_type": "code",
   "execution_count": 55,
   "metadata": {},
   "outputs": [
    {
     "data": {
      "text/plain": [
       "[5549.871, 5549.871, 5459.2354, 5678.0845, 5754.0845]"
      ]
     },
     "execution_count": 55,
     "metadata": {},
     "output_type": "execute_result"
    }
   ],
   "source": [
    "predicted_foms"
   ]
  },
  {
   "cell_type": "code",
   "execution_count": 58,
   "metadata": {},
   "outputs": [
    {
     "data": {
      "image/png": "[encoded data removed]",
      "text/plain": [
       "<Figure size 432x288 with 1 Axes>"
      ]
     },
     "metadata": {
      "needs_background": "light"
     },
     "output_type": "display_data"
    }
   ],
   "source": [
    "#plot the actual and predicted FOMs as a bar graph\n",
    "import matplotlib.pyplot as plt\n",
    "fig = plt.figure()\n",
    "ax = fig.add_axes([0,0,1,1])\n",
    "\n",
    "ax.bar(names, actual_foms, color = 'b', width = 0.25)\n",
    "ax.bar(names, predicted_foms, color = 'r', width = 0.25)\n",
    "\n",
    "plt.show()\n",
    "\n",
    "\n"
   ]
  },
  {
   "cell_type": "code",
   "execution_count": null,
   "metadata": {},
   "outputs": [],
   "source": []
  }
 ],
 "metadata": {
  "kernelspec": {
   "display_name": "torchenv",
   "language": "python",
   "name": "python3"
  },
  "language_info": {
   "codemirror_mode": {
    "name": "ipython",
    "version": 3
   },
   "file_extension": ".py",
   "mimetype": "text/x-python",
   "name": "python",
   "nbconvert_exporter": "python",
   "pygments_lexer": "ipython3",
   "version": "3.10.1"
  }
 },
 "nbformat": 4,
 "nbformat_minor": 2
}
